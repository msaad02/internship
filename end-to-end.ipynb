{
 "cells": [
  {
   "cell_type": "code",
   "execution_count": 169,
   "metadata": {},
   "outputs": [],
   "source": [
    "from InstructorEmbedding import INSTRUCTOR\n",
    "import openai\n",
    "import pickle\n",
    "import os\n",
    "import json\n",
    "import numpy as np\n",
    "from sklearn.metrics.pairwise import cosine_similarity\n",
    "\n",
    "openai.api_key = os.getenv(\"OPENAI_API_KEY\")"
   ]
  },
  {
   "cell_type": "code",
   "execution_count": 170,
   "metadata": {},
   "outputs": [],
   "source": [
    "# Write question here! Answer will be at the bottom\n",
    "question = 'How many members are there in group 3 in February 2022?'"
   ]
  },
  {
   "cell_type": "code",
   "execution_count": 171,
   "metadata": {},
   "outputs": [
    {
     "name": "stdout",
     "output_type": "stream",
     "text": [
      "load INSTRUCTOR_Transformer\n",
      "max_seq_length  512\n"
     ]
    }
   ],
   "source": [
    "model = INSTRUCTOR('hkunlp/instructor-large')"
   ]
  },
  {
   "cell_type": "code",
   "execution_count": 172,
   "metadata": {},
   "outputs": [],
   "source": [
    "def get_current_weather(location, unit = \"fahrenheit\"):\n",
    "    \"\"\"\n",
    "    Retreive the current temperature for a temperature\n",
    "    \"\"\"\n",
    "    weather_info = {\n",
    "        'location': location,\n",
    "        'temperature': 70,\n",
    "        'unit': unit,\n",
    "        'forecast': ['sunny', 'windy']\n",
    "    }\n",
    "    return json.dumps(weather_info)\n",
    "\n",
    "\n",
    "def get_member_count(date = 20230630, population = 'all'):\n",
    "    \"\"\"\n",
    "    Retreive the current number of members for a given date and population.\n",
    "\n",
    "    population can one of the following values: 'all', '1', '2', or '3'\n",
    "    \"\"\"\n",
    "    member_count = {\n",
    "        'date': date,\n",
    "        'population': population,\n",
    "        'member_count': 349_085\n",
    "    }\n",
    "    return member_count"
   ]
  },
  {
   "cell_type": "code",
   "execution_count": 173,
   "metadata": {},
   "outputs": [],
   "source": [
    "get_current_weather_gpt_input = {\n",
    "    \"name\": \"get_current_weather\",\n",
    "    \"description\": \"Get the current weather in a given location\",\n",
    "    \"parameters\": {\n",
    "        \"type\": \"object\",\n",
    "        \"properties\": {\n",
    "            \"location\": {\n",
    "                \"type\": \"string\",\n",
    "                \"description\": \"The city and state, e.g. San Francisco, CA\",\n",
    "            },\n",
    "            \"unit\": {\"type\": \"string\", \"enum\": [\"celsius\", \"fahrenheit\"]},\n",
    "        },\n",
    "        \"required\": [\"location\"],\n",
    "    },\n",
    "}\n",
    "\n",
    "get_member_count_gpt_input = {\n",
    "    \"name\": \"get_member_count\",\n",
    "    \"description\": \"Retreive the current number of members for a given date and population.\",\n",
    "    \"parameters\": {\n",
    "        \"type\": \"object\",\n",
    "        \"properties\": {\n",
    "            \"date\": {\n",
    "                \"type\": \"integer\",\n",
    "                \"description\": \"The Y/m/d in the query. e.g. 20200131, or 20220630\",\n",
    "            },\n",
    "            \"population\": {\n",
    "                \"type\": \"string\", \n",
    "                \"enum\": [\"all\", \"1\", \"2\", \"3\"], ## optional? idk what this does.\n",
    "                \"description\": \"Group of people to count. Can only be one of the following values: 'all', '1', '2', or '3'\"\n",
    "            },\n",
    "        },\n",
    "        \"required\": [\"date\", \"population\"],\n",
    "    },\n",
    "}"
   ]
  },
  {
   "cell_type": "code",
   "execution_count": 174,
   "metadata": {},
   "outputs": [
    {
     "data": {
      "text/plain": [
       "[['Represent the Insurance question for retrieval: ',\n",
       "  'What is the weather?',\n",
       "  {'name': 'get_current_weather',\n",
       "   'description': 'Get the current weather in a given location',\n",
       "   'parameters': {'type': 'object',\n",
       "    'properties': {'location': {'type': 'string',\n",
       "      'description': 'The city and state, e.g. San Francisco, CA'},\n",
       "     'unit': {'type': 'string', 'enum': ['celsius', 'fahrenheit']}},\n",
       "    'required': ['location']}}],\n",
       " ['Represent the Insurance question for retrieval: ',\n",
       "  'How many members are there in group X for date Y?',\n",
       "  {'name': 'get_member_count',\n",
       "   'description': 'Retreive the current number of members for a given date and population.',\n",
       "   'parameters': {'type': 'object',\n",
       "    'properties': {'date': {'type': 'integer',\n",
       "      'description': 'The Y/m/d in the query. e.g. 20200131, or 20220630'},\n",
       "     'population': {'type': 'string',\n",
       "      'enum': ['all', '1', '2', '3'],\n",
       "      'description': \"Group of people to count. Can only be one of the following values: 'all', '1', '2', or '3'\"}},\n",
       "    'required': ['date', 'population']}}]]"
      ]
     },
     "execution_count": 174,
     "metadata": {},
     "output_type": "execute_result"
    }
   ],
   "source": [
    "function_db = [['Represent the Insurance question for retrieval: ','What is the weather?', get_current_weather_gpt_input],\n",
    "          ['Represent the Insurance question for retrieval: ',\"How many members are there in group X for date Y?\", get_member_count_gpt_input]]\n",
    "function_db"
   ]
  },
  {
   "cell_type": "code",
   "execution_count": 175,
   "metadata": {},
   "outputs": [
    {
     "name": "stdout",
     "output_type": "stream",
     "text": [
      "1\n"
     ]
    }
   ],
   "source": [
    "query  = [['Represent the Insurance question for retrieving supporting questions: ',question]]\n",
    "corpus = [function_list[0:2] for function_list in function_db] # Ignore the last element which is the gpt input to embed it all\n",
    "query_embeddings = model.encode(query)\n",
    "corpus_embeddings = model.encode(corpus)\n",
    "similarities = cosine_similarity(query_embeddings,corpus_embeddings)\n",
    "retrieved_doc_id = np.argmax(similarities)\n",
    "print(retrieved_doc_id)"
   ]
  },
  {
   "cell_type": "code",
   "execution_count": 176,
   "metadata": {},
   "outputs": [],
   "source": [
    "# Now to get the gpt input and throw it in to gpt\n",
    "gpt_input = function_db[retrieved_doc_id][2]\n",
    "\n",
    "completion = openai.ChatCompletion.create(\n",
    "    model=\"gpt-4-0613\",\n",
    "    messages=[{\"role\": \"user\", \"content\": question}],\n",
    "    functions=[gpt_input],\n",
    "    function_call=\"auto\",\n",
    ")"
   ]
  },
  {
   "cell_type": "code",
   "execution_count": 177,
   "metadata": {},
   "outputs": [
    {
     "data": {
      "text/plain": [
       "<OpenAIObject chat.completion id=chatcmpl-7e9bBKo2TJUzxJW5UWvUCJjAcOxc7 at 0x7f0f4fefe810> JSON: {\n",
       "  \"id\": \"chatcmpl-7e9bBKo2TJUzxJW5UWvUCJjAcOxc7\",\n",
       "  \"object\": \"chat.completion\",\n",
       "  \"created\": 1689804373,\n",
       "  \"model\": \"gpt-4-0613\",\n",
       "  \"choices\": [\n",
       "    {\n",
       "      \"index\": 0,\n",
       "      \"message\": {\n",
       "        \"role\": \"assistant\",\n",
       "        \"content\": null,\n",
       "        \"function_call\": {\n",
       "          \"name\": \"get_member_count\",\n",
       "          \"arguments\": \"{\\n  \\\"date\\\": 20220228,\\n  \\\"population\\\": \\\"3\\\"\\n}\"\n",
       "        }\n",
       "      },\n",
       "      \"finish_reason\": \"function_call\"\n",
       "    }\n",
       "  ],\n",
       "  \"usage\": {\n",
       "    \"prompt_tokens\": 139,\n",
       "    \"completion_tokens\": 25,\n",
       "    \"total_tokens\": 164\n",
       "  }\n",
       "}"
      ]
     },
     "execution_count": 177,
     "metadata": {},
     "output_type": "execute_result"
    }
   ],
   "source": [
    "completion"
   ]
  },
  {
   "cell_type": "code",
   "execution_count": 178,
   "metadata": {},
   "outputs": [
    {
     "data": {
      "text/plain": [
       "<OpenAIObject at 0x7f0f4feffb30> JSON: {\n",
       "  \"index\": 0,\n",
       "  \"message\": {\n",
       "    \"role\": \"assistant\",\n",
       "    \"content\": null,\n",
       "    \"function_call\": {\n",
       "      \"name\": \"get_member_count\",\n",
       "      \"arguments\": \"{\\n  \\\"date\\\": 20220228,\\n  \\\"population\\\": \\\"3\\\"\\n}\"\n",
       "    }\n",
       "  },\n",
       "  \"finish_reason\": \"function_call\"\n",
       "}"
      ]
     },
     "execution_count": 178,
     "metadata": {},
     "output_type": "execute_result"
    }
   ],
   "source": [
    "reply_content = completion.choices[0]\n",
    "reply_content"
   ]
  },
  {
   "cell_type": "code",
   "execution_count": 179,
   "metadata": {},
   "outputs": [
    {
     "data": {
      "text/plain": [
       "{'index': 0,\n",
       " 'message': <OpenAIObject at 0x7f0f4feff4d0> JSON: {\n",
       "   \"role\": \"assistant\",\n",
       "   \"content\": null,\n",
       "   \"function_call\": {\n",
       "     \"name\": \"get_member_count\",\n",
       "     \"arguments\": \"{\\n  \\\"date\\\": 20220228,\\n  \\\"population\\\": \\\"3\\\"\\n}\"\n",
       "   }\n",
       " },\n",
       " 'finish_reason': 'function_call'}"
      ]
     },
     "execution_count": 179,
     "metadata": {},
     "output_type": "execute_result"
    }
   ],
   "source": [
    "reply_content.to_dict()"
   ]
  },
  {
   "cell_type": "code",
   "execution_count": 180,
   "metadata": {},
   "outputs": [],
   "source": [
    "function_name = reply_content.to_dict()['message']['function_call']['name']\n",
    "args = json.loads(reply_content.to_dict()['message']['function_call']['arguments'])"
   ]
  },
  {
   "cell_type": "code",
   "execution_count": 181,
   "metadata": {},
   "outputs": [
    {
     "data": {
      "text/plain": [
       "'get_member_count'"
      ]
     },
     "execution_count": 181,
     "metadata": {},
     "output_type": "execute_result"
    }
   ],
   "source": [
    "function_name"
   ]
  },
  {
   "cell_type": "code",
   "execution_count": 182,
   "metadata": {},
   "outputs": [
    {
     "data": {
      "text/plain": [
       "{'date': 20220228, 'population': '3'}"
      ]
     },
     "execution_count": 182,
     "metadata": {},
     "output_type": "execute_result"
    }
   ],
   "source": [
    "args"
   ]
  },
  {
   "cell_type": "code",
   "execution_count": 183,
   "metadata": {},
   "outputs": [
    {
     "data": {
      "text/plain": [
       "\"get_member_count(20220228, '3')\""
      ]
     },
     "execution_count": 183,
     "metadata": {},
     "output_type": "execute_result"
    }
   ],
   "source": [
    "# using repr to add quotes\n",
    "output = f\"{function_name}({', '.join(repr(args[key]) for key in args.keys())})\"\n",
    "output"
   ]
  },
  {
   "cell_type": "code",
   "execution_count": 184,
   "metadata": {},
   "outputs": [
    {
     "data": {
      "text/plain": [
       "{'date': 20220228, 'population': '3', 'member_count': 349085}"
      ]
     },
     "execution_count": 184,
     "metadata": {},
     "output_type": "execute_result"
    }
   ],
   "source": [
    "eval_output = eval(output)\n",
    "eval_output"
   ]
  },
  {
   "cell_type": "code",
   "execution_count": 185,
   "metadata": {},
   "outputs": [
    {
     "data": {
      "text/plain": [
       "\"{'date': 20220228, 'population': '3', 'member_count': 349085}\""
      ]
     },
     "execution_count": 185,
     "metadata": {},
     "output_type": "execute_result"
    }
   ],
   "source": [
    "str(eval_output)"
   ]
  },
  {
   "cell_type": "code",
   "execution_count": 186,
   "metadata": {},
   "outputs": [],
   "source": [
    "# Now to get the gpt input and throw it in to gpt\n",
    "gpt_input = function_db[retrieved_doc_id][2]\n",
    "\n",
    "completion = openai.ChatCompletion.create(\n",
    "    model=\"gpt-4-0613\",\n",
    "    messages=[\n",
    "        {\"role\": \"user\", \"content\": question},\n",
    "        {\"role\": \"assistant\", \"content\": \"null\", \"function_call\": reply_content.to_dict()['message']['function_call'].to_dict()},\n",
    "        {\"role\": \"function\", \"name\": function_name, \"content\": str(eval_output)}\n",
    "    ],\n",
    "    functions=[gpt_input],\n",
    "    function_call=\"auto\",\n",
    ")"
   ]
  },
  {
   "cell_type": "code",
   "execution_count": 187,
   "metadata": {},
   "outputs": [
    {
     "data": {
      "text/plain": [
       "<OpenAIObject chat.completion id=chatcmpl-7e9bELXO9TmuYazH5fgxnkYNTHvjD at 0x7f0f4fefc7d0> JSON: {\n",
       "  \"id\": \"chatcmpl-7e9bELXO9TmuYazH5fgxnkYNTHvjD\",\n",
       "  \"object\": \"chat.completion\",\n",
       "  \"created\": 1689804376,\n",
       "  \"model\": \"gpt-4-0613\",\n",
       "  \"choices\": [\n",
       "    {\n",
       "      \"index\": 0,\n",
       "      \"message\": {\n",
       "        \"role\": \"assistant\",\n",
       "        \"content\": \"In February 2022, there were 349,085 members in group 3.\"\n",
       "      },\n",
       "      \"finish_reason\": \"stop\"\n",
       "    }\n",
       "  ],\n",
       "  \"usage\": {\n",
       "    \"prompt_tokens\": 200,\n",
       "    \"completion_tokens\": 19,\n",
       "    \"total_tokens\": 219\n",
       "  }\n",
       "}"
      ]
     },
     "execution_count": 187,
     "metadata": {},
     "output_type": "execute_result"
    }
   ],
   "source": [
    "completion"
   ]
  },
  {
   "cell_type": "code",
   "execution_count": 188,
   "metadata": {},
   "outputs": [
    {
     "data": {
      "text/plain": [
       "'In February 2022, there were 349,085 members in group 3.'"
      ]
     },
     "execution_count": 188,
     "metadata": {},
     "output_type": "execute_result"
    }
   ],
   "source": [
    "completion['choices'][0]['message']['content']"
   ]
  }
 ],
 "metadata": {
  "kernelspec": {
   "display_name": "thesis",
   "language": "python",
   "name": "python3"
  },
  "language_info": {
   "codemirror_mode": {
    "name": "ipython",
    "version": 3
   },
   "file_extension": ".py",
   "mimetype": "text/x-python",
   "name": "python",
   "nbconvert_exporter": "python",
   "pygments_lexer": "ipython3",
   "version": "3.11.3"
  },
  "orig_nbformat": 4
 },
 "nbformat": 4,
 "nbformat_minor": 2
}
