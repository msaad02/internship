{
 "cells": [
  {
   "cell_type": "code",
   "execution_count": 56,
   "metadata": {},
   "outputs": [],
   "source": [
    "import openai\n",
    "import json\n",
    "import os\n",
    "\n",
    "openai.api_key = os.getenv(\"OPENAI_API_KEY\")"
   ]
  },
  {
   "cell_type": "code",
   "execution_count": 57,
   "metadata": {},
   "outputs": [],
   "source": [
    "def get_current_weather(location, unit = \"fahrenheit\"):\n",
    "    \"\"\"\n",
    "    Retreive the current temperature for a temperature\n",
    "    \"\"\"\n",
    "    weather_info = {\n",
    "        'location': location,\n",
    "        'temperature': 70,\n",
    "        'unit': unit,\n",
    "        'forecast': ['sunny', 'windy']\n",
    "    }\n",
    "    return json.dumps(weather_info)\n",
    "\n",
    "\n",
    "def get_member_count(date = 20230630, population = 'all'):\n",
    "    \"\"\"\n",
    "    Retreive the current number of members for a given date and population.\n",
    "\n",
    "    population can one of the following values: 'all', '1', '2', or '3'\n",
    "    \"\"\"\n",
    "    member_count = {\n",
    "        'date': date,\n",
    "        'population': population\n",
    "    }\n",
    "    return member_count"
   ]
  },
  {
   "cell_type": "code",
   "execution_count": 58,
   "metadata": {},
   "outputs": [],
   "source": [
    "completion = openai.ChatCompletion.create(\n",
    "    model=\"gpt-4-0613\",\n",
    "    messages=[{\"role\": \"user\", \"content\": \"How many mesmbers were there group 14 in July 2021?\"}],\n",
    "    functions=[\n",
    "    {\n",
    "        \"name\": \"get_current_weather\",\n",
    "        \"description\": \"Get the current weather in a given location\",\n",
    "        \"parameters\": {\n",
    "            \"type\": \"object\",\n",
    "            \"properties\": {\n",
    "                \"location\": {\n",
    "                    \"type\": \"string\",\n",
    "                    \"description\": \"The city and state, e.g. San Francisco, CA\",\n",
    "                },\n",
    "                \"unit\": {\"type\": \"string\", \"enum\": [\"celsius\", \"fahrenheit\"]},\n",
    "            },\n",
    "            \"required\": [\"location\"],\n",
    "        },\n",
    "    },\n",
    "    {\n",
    "        \"name\": \"get_member_count\",\n",
    "        \"description\": \"Retreive the current number of members for a given date and population.\",\n",
    "        \"parameters\": {\n",
    "            \"type\": \"object\",\n",
    "            \"properties\": {\n",
    "                \"date\": {\n",
    "                    \"type\": \"integer\",\n",
    "                    \"description\": \"The Y/m/d in the query. e.g. 20200131, or 20220630\",\n",
    "                },\n",
    "                \"population\": {\n",
    "                    \"type\": \"string\", \n",
    "                    \"enum\": [\"all\", \"1\", \"2\", \"3\"],\n",
    "                    \"description\": \"Group of people to count. Can only be one of the following values: 'all', '1', '2', or '3'\"\n",
    "                },\n",
    "            },\n",
    "            \"required\": [\"date\", \"population\"],\n",
    "        },\n",
    "    },\n",
    "],\n",
    "function_call=\"auto\",\n",
    ")"
   ]
  },
  {
   "cell_type": "code",
   "execution_count": 59,
   "metadata": {},
   "outputs": [
    {
     "data": {
      "text/plain": [
       "<OpenAIObject at 0x7f8436d7bef0> JSON: {\n",
       "  \"index\": 0,\n",
       "  \"message\": {\n",
       "    \"role\": \"assistant\",\n",
       "    \"content\": \"I'm sorry for the confusion but as per the available options, we can only count the members of groups 'all', '1', '2', or '3'. Group '14' is not a feasible option. Let me know if you want to check the member count for one of the provided group options.\"\n",
       "  },\n",
       "  \"finish_reason\": \"stop\"\n",
       "}"
      ]
     },
     "execution_count": 59,
     "metadata": {},
     "output_type": "execute_result"
    }
   ],
   "source": [
    "reply_content = completion.choices[0]\n",
    "reply_content"
   ]
  },
  {
   "cell_type": "code",
   "execution_count": 60,
   "metadata": {},
   "outputs": [
    {
     "data": {
      "text/plain": [
       "{'index': 0,\n",
       " 'message': <OpenAIObject at 0x7f8436d7b290> JSON: {\n",
       "   \"role\": \"assistant\",\n",
       "   \"content\": \"I'm sorry for the confusion but as per the available options, we can only count the members of groups 'all', '1', '2', or '3'. Group '14' is not a feasible option. Let me know if you want to check the member count for one of the provided group options.\"\n",
       " },\n",
       " 'finish_reason': 'stop'}"
      ]
     },
     "execution_count": 60,
     "metadata": {},
     "output_type": "execute_result"
    }
   ],
   "source": [
    "reply_content.to_dict()"
   ]
  },
  {
   "cell_type": "code",
   "execution_count": 61,
   "metadata": {},
   "outputs": [
    {
     "ename": "KeyError",
     "evalue": "'function_call'",
     "output_type": "error",
     "traceback": [
      "\u001b[0;31m---------------------------------------------------------------------------\u001b[0m",
      "\u001b[0;31mKeyError\u001b[0m                                  Traceback (most recent call last)",
      "Cell \u001b[0;32mIn[61], line 1\u001b[0m\n\u001b[0;32m----> 1\u001b[0m function_name \u001b[39m=\u001b[39m reply_content\u001b[39m.\u001b[39;49mto_dict()[\u001b[39m'\u001b[39;49m\u001b[39mmessage\u001b[39;49m\u001b[39m'\u001b[39;49m][\u001b[39m'\u001b[39;49m\u001b[39mfunction_call\u001b[39;49m\u001b[39m'\u001b[39;49m][\u001b[39m'\u001b[39m\u001b[39mname\u001b[39m\u001b[39m'\u001b[39m]\n\u001b[1;32m      2\u001b[0m args \u001b[39m=\u001b[39m json\u001b[39m.\u001b[39mloads(reply_content\u001b[39m.\u001b[39mto_dict()[\u001b[39m'\u001b[39m\u001b[39mmessage\u001b[39m\u001b[39m'\u001b[39m][\u001b[39m'\u001b[39m\u001b[39mfunction_call\u001b[39m\u001b[39m'\u001b[39m][\u001b[39m'\u001b[39m\u001b[39marguments\u001b[39m\u001b[39m'\u001b[39m])\n",
      "\u001b[0;31mKeyError\u001b[0m: 'function_call'"
     ]
    }
   ],
   "source": [
    "function_name = reply_content.to_dict()['message']['function_call']['name']\n",
    "args = json.loads(reply_content.to_dict()['message']['function_call']['arguments'])"
   ]
  },
  {
   "cell_type": "code",
   "execution_count": null,
   "metadata": {},
   "outputs": [
    {
     "data": {
      "text/plain": [
       "'get_member_count'"
      ]
     },
     "execution_count": 51,
     "metadata": {},
     "output_type": "execute_result"
    }
   ],
   "source": [
    "function_name"
   ]
  },
  {
   "cell_type": "code",
   "execution_count": null,
   "metadata": {},
   "outputs": [
    {
     "data": {
      "text/plain": [
       "{'date': 20210701, 'population': '15'}"
      ]
     },
     "execution_count": 52,
     "metadata": {},
     "output_type": "execute_result"
    }
   ],
   "source": [
    "args"
   ]
  },
  {
   "cell_type": "code",
   "execution_count": null,
   "metadata": {},
   "outputs": [
    {
     "data": {
      "text/plain": [
       "\"get_member_count(20210701, '15')\""
      ]
     },
     "execution_count": 53,
     "metadata": {},
     "output_type": "execute_result"
    }
   ],
   "source": [
    "# using repr to add quotes\n",
    "output = f\"{function_name}({', '.join(repr(args[key]) for key in args.keys())})\"\n",
    "output"
   ]
  },
  {
   "cell_type": "code",
   "execution_count": null,
   "metadata": {},
   "outputs": [
    {
     "data": {
      "text/plain": [
       "{'date': 20210701, 'population': '15'}"
      ]
     },
     "execution_count": 54,
     "metadata": {},
     "output_type": "execute_result"
    }
   ],
   "source": [
    "eval(output)"
   ]
  }
 ],
 "metadata": {
  "kernelspec": {
   "display_name": "thesis",
   "language": "python",
   "name": "python3"
  },
  "language_info": {
   "codemirror_mode": {
    "name": "ipython",
    "version": 3
   },
   "file_extension": ".py",
   "mimetype": "text/x-python",
   "name": "python",
   "nbconvert_exporter": "python",
   "pygments_lexer": "ipython3",
   "version": "3.11.3"
  },
  "orig_nbformat": 4
 },
 "nbformat": 4,
 "nbformat_minor": 2
}
